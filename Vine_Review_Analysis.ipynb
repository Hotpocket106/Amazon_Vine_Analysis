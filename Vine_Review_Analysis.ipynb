{
  "nbformat": 4,
  "nbformat_minor": 0,
  "metadata": {
    "colab": {
      "provenance": []
    },
    "kernelspec": {
      "name": "python3",
      "display_name": "Python 3"
    },
    "language_info": {
      "name": "python"
    }
  },
  "cells": [
    {
      "cell_type": "code",
      "execution_count": 1,
      "metadata": {
        "colab": {
          "base_uri": "https://localhost:8080/"
        },
        "id": "J8VSRccdNOv7",
        "outputId": "7d8f929d-7da3-4139-c603-c2b9a33378a8"
      },
      "outputs": [
        {
          "output_type": "stream",
          "name": "stdout",
          "text": [
            "\r0% [Working]\r            \rGet:1 http://security.ubuntu.com/ubuntu bionic-security InRelease [88.7 kB]\n",
            "\r0% [Connecting to archive.ubuntu.com] [1 InRelease 14.2 kB/88.7 kB 16%] [Connec\r                                                                               \rGet:2 https://cloud.r-project.org/bin/linux/ubuntu bionic-cran40/ InRelease [3,626 B]\n",
            "Hit:3 http://archive.ubuntu.com/ubuntu bionic InRelease\n",
            "Hit:4 http://ppa.launchpad.net/c2d4u.team/c2d4u4.0+/ubuntu bionic InRelease\n",
            "Get:5 http://archive.ubuntu.com/ubuntu bionic-updates InRelease [88.7 kB]\n",
            "Ign:6 https://developer.download.nvidia.com/compute/machine-learning/repos/ubuntu1804/x86_64  InRelease\n",
            "Hit:7 https://developer.download.nvidia.com/compute/cuda/repos/ubuntu1804/x86_64  InRelease\n",
            "Hit:8 https://developer.download.nvidia.com/compute/machine-learning/repos/ubuntu1804/x86_64  Release\n",
            "Get:9 http://archive.ubuntu.com/ubuntu bionic-backports InRelease [83.3 kB]\n",
            "Hit:10 http://ppa.launchpad.net/cran/libgit2/ubuntu bionic InRelease\n",
            "Hit:11 http://ppa.launchpad.net/deadsnakes/ppa/ubuntu bionic InRelease\n",
            "Hit:12 http://ppa.launchpad.net/graphics-drivers/ppa/ubuntu bionic InRelease\n",
            "Get:13 http://security.ubuntu.com/ubuntu bionic-security/main amd64 Packages [3,145 kB]\n",
            "Get:14 http://security.ubuntu.com/ubuntu bionic-security/restricted amd64 Packages [1,371 kB]\n",
            "Get:15 http://security.ubuntu.com/ubuntu bionic-security/universe amd64 Packages [1,573 kB]\n",
            "Get:17 http://archive.ubuntu.com/ubuntu bionic-updates/restricted amd64 Packages [1,412 kB]\n",
            "Get:18 http://archive.ubuntu.com/ubuntu bionic-updates/universe amd64 Packages [2,348 kB]\n",
            "Get:19 http://archive.ubuntu.com/ubuntu bionic-updates/main amd64 Packages [3,568 kB]\n",
            "Fetched 13.7 MB in 8s (1,634 kB/s)\n",
            "Reading package lists... Done\n"
          ]
        }
      ],
      "source": [
        "import os\n",
        "# Find the latest version of spark 3.2  from http://www.apache.org/dist/spark/ and enter as the spark version\n",
        "# For example:\n",
        "# spark_version = 'spark-3.2.2'\n",
        "spark_version = 'spark-3.2.3'\n",
        "os.environ['SPARK_VERSION']=spark_version\n",
        "# Install Spark and Java\n",
        "!apt-get update\n",
        "!apt-get install openjdk-8-jdk-headless -qq > /dev/null\n",
        "!wget -q http://www.apache.org/dist/spark/$SPARK_VERSION/$SPARK_VERSION-bin-hadoop2.7.tgz\n",
        "!tar xf $SPARK_VERSION-bin-hadoop2.7.tgz\n",
        "!pip install -q findspark\n",
        "# Set Environment Variables\n",
        "os.environ[\"JAVA_HOME\"] = \"/usr/lib/jvm/java-8-openjdk-amd64\"\n",
        "os.environ[\"SPARK_HOME\"] = f\"/content/{spark_version}-bin-hadoop2.7\"\n",
        "# Start a SparkSession\n",
        "import findspark\n",
        "findspark.init()"
      ]
    },
    {
      "cell_type": "code",
      "source": [
        "!wget https://jdbc.postgresql.org/download/postgresql-42.2.9.jar"
      ],
      "metadata": {
        "colab": {
          "base_uri": "https://localhost:8080/"
        },
        "id": "grASVsjlNQXy",
        "outputId": "3296bb9b-24b7-4b25-9ae3-a85529ae043d"
      },
      "execution_count": 2,
      "outputs": [
        {
          "output_type": "stream",
          "name": "stdout",
          "text": [
            "--2023-01-13 22:17:43--  https://jdbc.postgresql.org/download/postgresql-42.2.9.jar\n",
            "Resolving jdbc.postgresql.org (jdbc.postgresql.org)... 72.32.157.228, 2001:4800:3e1:1::228\n",
            "Connecting to jdbc.postgresql.org (jdbc.postgresql.org)|72.32.157.228|:443... connected.\n",
            "HTTP request sent, awaiting response... 200 OK\n",
            "Length: 914037 (893K) [application/java-archive]\n",
            "Saving to: ‘postgresql-42.2.9.jar’\n",
            "\n",
            "postgresql-42.2.9.j 100%[===================>] 892.61K  --.-KB/s    in 0.1s    \n",
            "\n",
            "2023-01-13 22:17:43 (6.35 MB/s) - ‘postgresql-42.2.9.jar’ saved [914037/914037]\n",
            "\n"
          ]
        }
      ]
    },
    {
      "cell_type": "code",
      "source": [
        "from pyspark.sql import SparkSession\n",
        "import pandas as pd\n",
        "spark = SparkSession.builder.appName(\"Vine_Review_Analysis\").getOrCreate()"
      ],
      "metadata": {
        "id": "kn7ojudDNSIZ"
      },
      "execution_count": 4,
      "outputs": []
    },
    {
      "cell_type": "code",
      "source": [
        "from pyspark import SparkFiles\n",
        "url = \"https://s3.amazonaws.com/amazon-reviews-pds/tsv/amazon_reviews_us_Music_v1_00.tsv.gz\"\n",
        "spark.sparkContext.addFile(url)\n",
        "df = spark.read.option(\"encoding\", \"UTF-8\").csv(SparkFiles.get(\"\"), sep=\"\\t\", header=True, inferSchema=True)\n",
        "df.show(10)"
      ],
      "metadata": {
        "colab": {
          "base_uri": "https://localhost:8080/"
        },
        "id": "GeURLsLnNpNY",
        "outputId": "96b53b10-6d8f-485b-a7d6-7573fdc6c9b2"
      },
      "execution_count": 6,
      "outputs": [
        {
          "output_type": "stream",
          "name": "stdout",
          "text": [
            "+-----------+-----------+--------------+----------+--------------+--------------------+----------------+-----------+-------------+-----------+----+-----------------+--------------------+--------------------+-----------+\n",
            "|marketplace|customer_id|     review_id|product_id|product_parent|       product_title|product_category|star_rating|helpful_votes|total_votes|vine|verified_purchase|     review_headline|         review_body|review_date|\n",
            "+-----------+-----------+--------------+----------+--------------+--------------------+----------------+-----------+-------------+-----------+----+-----------------+--------------------+--------------------+-----------+\n",
            "|         US|   10140119|R3LI5TRP3YIDQL|B00TXH4OLC|     384427924|Whatever's for Us...|           Music|          5|            0|          0|   N|                Y|          Five Stars|Love this CD alon...| 2015-08-31|\n",
            "|         US|   27664622|R3LGC3EKEG84PX|B00B6QXN6U|     831769051|Same Trailer Diff...|           Music|          5|            0|          0|   N|                Y|A new fave in our...|This is the album...| 2015-08-31|\n",
            "|         US|   45946560| R9PYL3OYH55QY|B001GCZXW6|      14067376| Soaring (Jazz Club)|           Music|          5|            0|          1|   N|                Y|          Five Stars|  Excellent / thanks| 2015-08-31|\n",
            "|         US|   15146326|R3PWBAWUS4NT0Q|B000003EK6|     566295619|     CARIBBEAN PARTY|           Music|          3|            0|          0|   N|                Y|         Three Stars|Nice variety of c...| 2015-08-31|\n",
            "|         US|   16794688|R15LYP3O51UU9E|B00N1F0BKK|     210426072|         Pain Killer|           Music|          5|            0|          0|   N|                Y|          Five Stars|Purchased as a gi...| 2015-08-31|\n",
            "|         US|   32203364|R1AD7L0CC3DSRI|B00V7KAO7Q|     360249504|A Thoughtiverse U...|           Music|          5|            0|          0|   N|                Y|Definitely worth ...|Really enjoyed th...| 2015-08-31|\n",
            "|         US|    1194276|R32FE8Y45QV434|B000094Q4P|      20972283|Comfort of Her Wings|           Music|          5|            0|          0|   N|                Y|          Five Stars|            Great CD| 2015-08-31|\n",
            "|         US|   45813052|R3NM4MZ4XWL43Q|B00JMK0P1I|     378049560|Sleep Soundly CD ...|           Music|          5|            1|          2|   N|                Y|          Five Stars|       Excellent CD!| 2015-08-31|\n",
            "|         US|   12795687|R3H4FXX6Q7I37D|B008OW1S3O|     141620702|     An Awesome Wave|           Music|          4|            0|          0|   N|                Y|          Four Stars|                nice| 2015-08-31|\n",
            "|         US|   36673840|R30L5PET7LFFDC|B00VI2L3L4|     920557135|          Blurryface|           Music|          5|            1|          1|   N|                Y|        Outstanding!|Outstanding music...| 2015-08-31|\n",
            "|         US|   49453576|  REFRE1LEKLAF|B0000041EV|     683128964|Mozart For Mother...|           Music|          4|            1|          1|   N|                Y|          Four Stars|      quite relaxing| 2015-08-31|\n",
            "|         US|    3285047|R3JTJ5EQN74E9H|B00005YW4H|     268461622|   Come Away with Me|           Music|          5|            0|          0|   N|                Y|          Five Stars|I love this CD.  ...| 2015-08-31|\n",
            "|         US|   24471201|R1W2F091LCOAW5|B00Q9KEZV0|     444090572| Tomorrow Is My Turn|           Music|          5|            0|          0|   N|                Y|FIve Stars and Th...|Rhiannon Giddens ...| 2015-08-31|\n",
            "|         US|   28049396| RYUMFQRRB1FNM|B00GFXRKHW|     482597726|       The Outsiders|           Music|          3|            0|          0|   N|                Y|         Three Stars|Wrecking Ball is ...| 2015-08-31|\n",
            "|         US|   41137196| RHCS6VVXWV3Q3|B004L3AQ10|     609457123|  The Lincoln Lawyer|           Music|          5|            0|          0|   N|                Y|          Five Stars|I was pleased wit...| 2015-08-31|\n",
            "|         US|   43305401|R35UL1YZ2142SL|B0000025PM|     125399885|Bach: Goldberg Va...|           Music|          5|            0|          0|   N|                Y|   The Creative Flow|The music that in...| 2015-08-31|\n",
            "|         US|   50808489|  RU1O6QD1LEBB|B00701QUN8|     144457491|Quiet Riot - Grea...|           Music|          5|            0|          0|   N|                Y|          Five Stars|   Excellent CD&#62;| 2015-08-31|\n",
            "|         US|   15536614|R36RXVL3XIZFH7|B003UJC2QI|     207971309|Love Or Money/Lov...|           Music|          5|            0|          0|   N|                N|    Great Pop Single|Love Or Money by ...| 2015-08-31|\n",
            "|         US|   32536909|R16O7SHYHLEYA1|B00LGA16J2|     760666287|Jonas Kaufmann - ...|           Music|          5|            0|          0|   N|                Y|          Five Stars|      Just splendid!| 2015-08-31|\n",
            "|         US|   51160312|R1Y5GX65Z2V9BG|B00ZGVMLLE|      37408836|        Clockworking|           Music|          5|            0|          0|   N|                N|Glorious Glorious...|One of my favorit...| 2015-08-31|\n",
            "+-----------+-----------+--------------+----------+--------------+--------------------+----------------+-----------+-------------+-----------+----+-----------------+--------------------+--------------------+-----------+\n",
            "only showing top 20 rows\n",
            "\n"
          ]
        }
      ]
    },
    {
      "cell_type": "code",
      "source": [
        "from pyspark.sql.functions import col\n",
        "\n",
        "filtered_df = df.filter(col(\"total_votes\") >= 20)\n",
        "filtered_df.show()\n",
        "     "
      ],
      "metadata": {
        "colab": {
          "base_uri": "https://localhost:8080/"
        },
        "id": "0SJHeu6GO-_F",
        "outputId": "1b20984b-d21d-45a6-fd5c-182247fd5a42"
      },
      "execution_count": 7,
      "outputs": [
        {
          "output_type": "stream",
          "name": "stdout",
          "text": [
            "+-----------+-----------+--------------+----------+--------------+--------------------+----------------+-----------+-------------+-----------+----+-----------------+--------------------+--------------------+-----------+\n",
            "|marketplace|customer_id|     review_id|product_id|product_parent|       product_title|product_category|star_rating|helpful_votes|total_votes|vine|verified_purchase|     review_headline|         review_body|review_date|\n",
            "+-----------+-----------+--------------+----------+--------------+--------------------+----------------+-----------+-------------+-----------+----+-----------------+--------------------+--------------------+-----------+\n",
            "|         US|   23282003|R2SHXRL6SL1GC9|B010FP0WRU|     974013859|#392: The EP Coll...|           Music|          3|           25|         26|   N|                Y|Up it by a half-s...|A solid collectio...| 2015-08-31|\n",
            "|         US|   21715314|R2ZC033X86YOY8|B00ZYBH6M0|     408426475|  Live in Tokyo 1975|           Music|          5|           25|         26|   N|                N|Miles Live in Tok...|This is not to be...| 2015-08-31|\n",
            "|         US|   36195285|R2736RJGCOSL80|B00ZGJ85Y8|     547995808|War Room (Music f...|           Music|          5|           19|         20|   N|                Y|Christian Inspira...|This CD is one I ...| 2015-08-31|\n",
            "|         US|   44880816| RRY5DJ6J9BKAX|B00VRMEOKW|     660396327|          Start Here|           Music|          5|           19|         21|   N|                Y|A great debut album.|I pre-ordered thi...| 2015-08-31|\n",
            "|         US|   13262465|R2P4PJJ2ROTPBM|B00Z97XIZ8|     279373510|  Cheers To The Fall|           Music|          5|           46|         48|   N|                N|This album and he...|This album and he...| 2015-08-31|\n",
            "|         US|   36907003| RO8RAEGB66BKR|B00WH6GZDG|     832872767|I'll Remember:  A...|           Music|          4|           46|         46|   N|                N|\"...Blister On Th...|When &#34;On The ...| 2015-08-31|\n",
            "|         US|   48271867| RRFZ7QZTRJC59|B012TPRX6W|     874027336|Wholetones: The H...|           Music|          5|          292|        300|   N|                N|Cleared my cloud ...|So I usually don'...| 2015-08-31|\n",
            "|         US|   42360492| RFN4PNRUD1UW2|B00YPB27Z6|     654214320|           Bad Magic|           Music|          4|           21|         22|   N|                N|      A Real Triumph|The great thing a...| 2015-08-30|\n",
            "|         US|   38379823| RO7EBJEP7IHIX|B013HFUAHC|     759107433|Beethoven: The Ni...|           Music|          5|           26|         26|   N|                N|A Nineteenth Cent...|Pierre Monteux (b...| 2015-08-30|\n",
            "|         US|   18586962|R1CVS4MK9RTNNP|B00ZIAODGE|     990027034|   Depression Cherry|           Music|          2|           11|         22|   N|                N|   Regression Cherry|Five stars are gi...| 2015-08-30|\n",
            "|         US|   41000426| REIWYIGFMEKEV|B00XWVIZW4|     190147421|Shostakovich - Un...|           Music|          5|           26|         30|   N|                Y|it is the gold st...|Buy it.  It is a ...| 2015-08-30|\n",
            "|         US|   43400288|R2FV27WWRWROZU|B011DNDHXO|     498346766|Sonic Evolution /...|           Music|          4|           26|         27|   N|                N|A well-done tribu...|Mad Season, the S...| 2015-08-29|\n",
            "|         US|   51763277|R30I82JFOSSJMA|B010NOZWX2|     655317938| High Country [2 LP]|           Music|          3|           14|         20|   N|                Y|      Disappointing.|I suppose I shoul...| 2015-08-29|\n",
            "|         US|    3368426|R2FUEC06SD2TZ1|B00YH4Y7U4|     197713129|VII: Sturm Und Drang|           Music|          1|            2|         24|   N|                Y|... all washed-up...|Dont buy it LOG i...| 2015-08-29|\n",
            "|         US|   28626749|R16QHOYRY9QLQU|B00WYMBZCO|     861398623|Rachmaninov Varia...|           Music|          5|           36|         39|   N|                N|Beautiful Marriag...|This is Trifonov’...| 2015-08-29|\n",
            "|         US|   43790276|R1CQON45M11K9Q|B010GV5PVQ|     363487418|Freedom: Jimi Hen...|           Music|          5|          125|        131|   N|                Y|      Atlanta Pop 70|If you already ha...| 2015-08-29|\n",
            "|         US|    4529757|R1WYWVRXAGND36|B00YPB27Z6|     654214320|           Bad Magic|           Music|          5|           24|         25|   N|                N|WE ARE MOTORHEAD ...|There are really ...| 2015-08-29|\n",
            "|         US|   35478996| R6RZ581R948P7|B01017JVJ2|     427746996|            Midnight|           Music|          1|           29|         42|   N|                Y|Wall of Noise not...|If I could give t...| 2015-08-29|\n",
            "|         US|   13962821| RBRZ21U9GFORT|B010GV5PVQ|     363487418|Freedom: Jimi Hen...|           Music|          5|           28|         33|   N|                N|       Astonishing !|I don't need to s...| 2015-08-28|\n",
            "|         US|   25432539|R2Y6OCM9IEH9QO|B013GX8MDO|     177728853|             Compton|           Music|          1|           12|         21|   N|                N|The worst comebac...|Wow that was bare...| 2015-08-28|\n",
            "+-----------+-----------+--------------+----------+--------------+--------------------+----------------+-----------+-------------+-----------+----+-----------------+--------------------+--------------------+-----------+\n",
            "only showing top 20 rows\n",
            "\n"
          ]
        }
      ]
    },
    {
      "cell_type": "code",
      "source": [
        "#Filter the new DataFrame or table created in Step 1 and create a new DataFrame or table to retrieve all the rows where the number of helpful_votes divided by total_votes is equal to or greater than 50%\n",
        "helpful_votes_df = filtered_df.filter(col(\"helpful_votes\")/col(\"total_votes\") >= .50)\n",
        "helpful_votes_df.show(10)"
      ],
      "metadata": {
        "colab": {
          "base_uri": "https://localhost:8080/"
        },
        "id": "BvhVRpvsPdkK",
        "outputId": "5f93d95b-caa5-4579-dab9-8a072aaf4e4f"
      },
      "execution_count": 9,
      "outputs": [
        {
          "output_type": "stream",
          "name": "stdout",
          "text": [
            "+-----------+-----------+--------------+----------+--------------+--------------------+----------------+-----------+-------------+-----------+----+-----------------+--------------------+--------------------+-----------+\n",
            "|marketplace|customer_id|     review_id|product_id|product_parent|       product_title|product_category|star_rating|helpful_votes|total_votes|vine|verified_purchase|     review_headline|         review_body|review_date|\n",
            "+-----------+-----------+--------------+----------+--------------+--------------------+----------------+-----------+-------------+-----------+----+-----------------+--------------------+--------------------+-----------+\n",
            "|         US|   23282003|R2SHXRL6SL1GC9|B010FP0WRU|     974013859|#392: The EP Coll...|           Music|          3|           25|         26|   N|                Y|Up it by a half-s...|A solid collectio...| 2015-08-31|\n",
            "|         US|   21715314|R2ZC033X86YOY8|B00ZYBH6M0|     408426475|  Live in Tokyo 1975|           Music|          5|           25|         26|   N|                N|Miles Live in Tok...|This is not to be...| 2015-08-31|\n",
            "|         US|   36195285|R2736RJGCOSL80|B00ZGJ85Y8|     547995808|War Room (Music f...|           Music|          5|           19|         20|   N|                Y|Christian Inspira...|This CD is one I ...| 2015-08-31|\n",
            "|         US|   44880816| RRY5DJ6J9BKAX|B00VRMEOKW|     660396327|          Start Here|           Music|          5|           19|         21|   N|                Y|A great debut album.|I pre-ordered thi...| 2015-08-31|\n",
            "|         US|   13262465|R2P4PJJ2ROTPBM|B00Z97XIZ8|     279373510|  Cheers To The Fall|           Music|          5|           46|         48|   N|                N|This album and he...|This album and he...| 2015-08-31|\n",
            "|         US|   36907003| RO8RAEGB66BKR|B00WH6GZDG|     832872767|I'll Remember:  A...|           Music|          4|           46|         46|   N|                N|\"...Blister On Th...|When &#34;On The ...| 2015-08-31|\n",
            "|         US|   48271867| RRFZ7QZTRJC59|B012TPRX6W|     874027336|Wholetones: The H...|           Music|          5|          292|        300|   N|                N|Cleared my cloud ...|So I usually don'...| 2015-08-31|\n",
            "|         US|   42360492| RFN4PNRUD1UW2|B00YPB27Z6|     654214320|           Bad Magic|           Music|          4|           21|         22|   N|                N|      A Real Triumph|The great thing a...| 2015-08-30|\n",
            "|         US|   38379823| RO7EBJEP7IHIX|B013HFUAHC|     759107433|Beethoven: The Ni...|           Music|          5|           26|         26|   N|                N|A Nineteenth Cent...|Pierre Monteux (b...| 2015-08-30|\n",
            "|         US|   18586962|R1CVS4MK9RTNNP|B00ZIAODGE|     990027034|   Depression Cherry|           Music|          2|           11|         22|   N|                N|   Regression Cherry|Five stars are gi...| 2015-08-30|\n",
            "+-----------+-----------+--------------+----------+--------------+--------------------+----------------+-----------+-------------+-----------+----+-----------------+--------------------+--------------------+-----------+\n",
            "only showing top 10 rows\n",
            "\n"
          ]
        }
      ]
    },
    {
      "cell_type": "code",
      "source": [
        "#Filter the DataFrame or table created in Step 2, and create a new DataFrame or table that retrieves all the rows where a review was written as part of the Vine program (paid), vine == 'Y'.\n",
        "paid_vine_df = helpful_votes_df.filter(col(\"vine\") == 'Y')\n",
        "paid_vine_df.show()"
      ],
      "metadata": {
        "colab": {
          "base_uri": "https://localhost:8080/"
        },
        "id": "iNxZseP1Puy6",
        "outputId": "4b56d00c-583c-40ea-9044-2c011d824780"
      },
      "execution_count": 10,
      "outputs": [
        {
          "output_type": "stream",
          "name": "stdout",
          "text": [
            "+-----------+-----------+--------------+----------+--------------+--------------------+----------------+-----------+-------------+-----------+----+-----------------+--------------------+--------------------+-----------+\n",
            "|marketplace|customer_id|     review_id|product_id|product_parent|       product_title|product_category|star_rating|helpful_votes|total_votes|vine|verified_purchase|     review_headline|         review_body|review_date|\n",
            "+-----------+-----------+--------------+----------+--------------+--------------------+----------------+-----------+-------------+-----------+----+-----------------+--------------------+--------------------+-----------+\n",
            "|         US|   45725380| R84VUCDBCI29U|B0020H46LK|     630657414|        Losing Sleep|           Music|          3|           18|         28|   Y|                N|Suitable for Mass...|Do you still get ...| 2009-07-31|\n",
            "|         US|   53081008| R4V3ICFDTIDIF|B001SMC91M|     609338227|Tell 'Em What You...|           Music|          4|           20|         21|   Y|                N|The Great Grandso...|Hehhhh! Something...| 2009-06-03|\n",
            "|         US|   49197984|R1JZ0JAPW83WFS|B001L2I27O|     995259710|          Troubadour|           Music|          4|           54|         58|   Y|                N|An old white lady...|I try to be hip, ...| 2009-05-21|\n",
            "|         US|   50779580|R1XH7EA97FAVP7|B0010VD7EO|     600781030|Oracular Spectacular|           Music|          3|           35|         44|   Y|                N|Neo-psychedelic F...|I've heard compla...| 2008-05-06|\n",
            "|         US|   41036875|R1482JAU1ZR7QH|B0010VD7EO|     600781030|Oracular Spectacular|           Music|          4|           15|         22|   Y|                N|Be open-minded an...|This album is lik...| 2008-05-04|\n",
            "|         US|   34487454|R1GGYGVTHP84DG|B00113R1I4|     179596053|         Mockingbird|           Music|          4|           25|         27|   Y|                N|Allison Moorer's ...|[[ASIN:B00113R1I4...| 2008-03-18|\n",
            "|         US|   26747773| RXGU9DSKZJSP0|B000WSRPOO|     576432510|  Spirit Of The Glen|           Music|          3|           21|         22|   Y|                N|A Wee Bit Overpro...|I grabbed this wh...| 2008-02-19|\n",
            "+-----------+-----------+--------------+----------+--------------+--------------------+----------------+-----------+-------------+-----------+----+-----------------+--------------------+--------------------+-----------+\n",
            "\n"
          ]
        }
      ]
    },
    {
      "cell_type": "code",
      "source": [
        "#Repeat Step 3, but this time retrieve all the rows where the review was not part of the Vine program (unpaid), vine == 'N'.\n",
        "unpaid_vine_df = helpful_votes_df.filter(col(\"vine\") == 'N')\n",
        "unpaid_vine_df.show()"
      ],
      "metadata": {
        "colab": {
          "base_uri": "https://localhost:8080/"
        },
        "id": "HrYvZrszP7YF",
        "outputId": "ca4e88d9-f5ec-455a-c768-09e0faf1d462"
      },
      "execution_count": 11,
      "outputs": [
        {
          "output_type": "stream",
          "name": "stdout",
          "text": [
            "+-----------+-----------+--------------+----------+--------------+--------------------+----------------+-----------+-------------+-----------+----+-----------------+--------------------+--------------------+-----------+\n",
            "|marketplace|customer_id|     review_id|product_id|product_parent|       product_title|product_category|star_rating|helpful_votes|total_votes|vine|verified_purchase|     review_headline|         review_body|review_date|\n",
            "+-----------+-----------+--------------+----------+--------------+--------------------+----------------+-----------+-------------+-----------+----+-----------------+--------------------+--------------------+-----------+\n",
            "|         US|   23282003|R2SHXRL6SL1GC9|B010FP0WRU|     974013859|#392: The EP Coll...|           Music|          3|           25|         26|   N|                Y|Up it by a half-s...|A solid collectio...| 2015-08-31|\n",
            "|         US|   21715314|R2ZC033X86YOY8|B00ZYBH6M0|     408426475|  Live in Tokyo 1975|           Music|          5|           25|         26|   N|                N|Miles Live in Tok...|This is not to be...| 2015-08-31|\n",
            "|         US|   36195285|R2736RJGCOSL80|B00ZGJ85Y8|     547995808|War Room (Music f...|           Music|          5|           19|         20|   N|                Y|Christian Inspira...|This CD is one I ...| 2015-08-31|\n",
            "|         US|   44880816| RRY5DJ6J9BKAX|B00VRMEOKW|     660396327|          Start Here|           Music|          5|           19|         21|   N|                Y|A great debut album.|I pre-ordered thi...| 2015-08-31|\n",
            "|         US|   13262465|R2P4PJJ2ROTPBM|B00Z97XIZ8|     279373510|  Cheers To The Fall|           Music|          5|           46|         48|   N|                N|This album and he...|This album and he...| 2015-08-31|\n",
            "|         US|   36907003| RO8RAEGB66BKR|B00WH6GZDG|     832872767|I'll Remember:  A...|           Music|          4|           46|         46|   N|                N|\"...Blister On Th...|When &#34;On The ...| 2015-08-31|\n",
            "|         US|   48271867| RRFZ7QZTRJC59|B012TPRX6W|     874027336|Wholetones: The H...|           Music|          5|          292|        300|   N|                N|Cleared my cloud ...|So I usually don'...| 2015-08-31|\n",
            "|         US|   42360492| RFN4PNRUD1UW2|B00YPB27Z6|     654214320|           Bad Magic|           Music|          4|           21|         22|   N|                N|      A Real Triumph|The great thing a...| 2015-08-30|\n",
            "|         US|   38379823| RO7EBJEP7IHIX|B013HFUAHC|     759107433|Beethoven: The Ni...|           Music|          5|           26|         26|   N|                N|A Nineteenth Cent...|Pierre Monteux (b...| 2015-08-30|\n",
            "|         US|   18586962|R1CVS4MK9RTNNP|B00ZIAODGE|     990027034|   Depression Cherry|           Music|          2|           11|         22|   N|                N|   Regression Cherry|Five stars are gi...| 2015-08-30|\n",
            "|         US|   41000426| REIWYIGFMEKEV|B00XWVIZW4|     190147421|Shostakovich - Un...|           Music|          5|           26|         30|   N|                Y|it is the gold st...|Buy it.  It is a ...| 2015-08-30|\n",
            "|         US|   43400288|R2FV27WWRWROZU|B011DNDHXO|     498346766|Sonic Evolution /...|           Music|          4|           26|         27|   N|                N|A well-done tribu...|Mad Season, the S...| 2015-08-29|\n",
            "|         US|   51763277|R30I82JFOSSJMA|B010NOZWX2|     655317938| High Country [2 LP]|           Music|          3|           14|         20|   N|                Y|      Disappointing.|I suppose I shoul...| 2015-08-29|\n",
            "|         US|   28626749|R16QHOYRY9QLQU|B00WYMBZCO|     861398623|Rachmaninov Varia...|           Music|          5|           36|         39|   N|                N|Beautiful Marriag...|This is Trifonov’...| 2015-08-29|\n",
            "|         US|   43790276|R1CQON45M11K9Q|B010GV5PVQ|     363487418|Freedom: Jimi Hen...|           Music|          5|          125|        131|   N|                Y|      Atlanta Pop 70|If you already ha...| 2015-08-29|\n",
            "|         US|    4529757|R1WYWVRXAGND36|B00YPB27Z6|     654214320|           Bad Magic|           Music|          5|           24|         25|   N|                N|WE ARE MOTORHEAD ...|There are really ...| 2015-08-29|\n",
            "|         US|   35478996| R6RZ581R948P7|B01017JVJ2|     427746996|            Midnight|           Music|          1|           29|         42|   N|                Y|Wall of Noise not...|If I could give t...| 2015-08-29|\n",
            "|         US|   13962821| RBRZ21U9GFORT|B010GV5PVQ|     363487418|Freedom: Jimi Hen...|           Music|          5|           28|         33|   N|                N|       Astonishing !|I don't need to s...| 2015-08-28|\n",
            "|         US|   25432539|R2Y6OCM9IEH9QO|B013GX8MDO|     177728853|             Compton|           Music|          1|           12|         21|   N|                N|The worst comebac...|Wow that was bare...| 2015-08-28|\n",
            "|         US|    6110080|R26I5D95TEK226|B010GV5PVQ|     363487418|Freedom: Jimi Hen...|           Music|          5|           52|         56|   N|                N|VINYL/WHAT AN EXP...|This review is fo...| 2015-08-28|\n",
            "+-----------+-----------+--------------+----------+--------------+--------------------+----------------+-----------+-------------+-----------+----+-----------------+--------------------+--------------------+-----------+\n",
            "only showing top 20 rows\n",
            "\n"
          ]
        }
      ]
    },
    {
      "cell_type": "code",
      "source": [
        "#Determine the total number of reviews, the number of 5-star reviews, and the percentage of 5-star reviews for the two types of review (paid vs unpaid).\n",
        "unpaid_star_rating_df = unpaid_vine_df.filter(col(\"star_rating\") == 5)\n",
        "unpaid_star_rating_df.show()"
      ],
      "metadata": {
        "colab": {
          "base_uri": "https://localhost:8080/"
        },
        "id": "WFB_Klk2UPEt",
        "outputId": "24cc7cc3-cad5-4afb-e3d0-a7d148d31aa9"
      },
      "execution_count": 36,
      "outputs": [
        {
          "output_type": "stream",
          "name": "stdout",
          "text": [
            "+-----------+-----------+--------------+----------+--------------+--------------------+----------------+-----------+-------------+-----------+----+-----------------+--------------------+--------------------+-----------+\n",
            "|marketplace|customer_id|     review_id|product_id|product_parent|       product_title|product_category|star_rating|helpful_votes|total_votes|vine|verified_purchase|     review_headline|         review_body|review_date|\n",
            "+-----------+-----------+--------------+----------+--------------+--------------------+----------------+-----------+-------------+-----------+----+-----------------+--------------------+--------------------+-----------+\n",
            "|         US|   21715314|R2ZC033X86YOY8|B00ZYBH6M0|     408426475|  Live in Tokyo 1975|           Music|          5|           25|         26|   N|                N|Miles Live in Tok...|This is not to be...| 2015-08-31|\n",
            "|         US|   36195285|R2736RJGCOSL80|B00ZGJ85Y8|     547995808|War Room (Music f...|           Music|          5|           19|         20|   N|                Y|Christian Inspira...|This CD is one I ...| 2015-08-31|\n",
            "|         US|   44880816| RRY5DJ6J9BKAX|B00VRMEOKW|     660396327|          Start Here|           Music|          5|           19|         21|   N|                Y|A great debut album.|I pre-ordered thi...| 2015-08-31|\n",
            "|         US|   13262465|R2P4PJJ2ROTPBM|B00Z97XIZ8|     279373510|  Cheers To The Fall|           Music|          5|           46|         48|   N|                N|This album and he...|This album and he...| 2015-08-31|\n",
            "|         US|   48271867| RRFZ7QZTRJC59|B012TPRX6W|     874027336|Wholetones: The H...|           Music|          5|          292|        300|   N|                N|Cleared my cloud ...|So I usually don'...| 2015-08-31|\n",
            "|         US|   38379823| RO7EBJEP7IHIX|B013HFUAHC|     759107433|Beethoven: The Ni...|           Music|          5|           26|         26|   N|                N|A Nineteenth Cent...|Pierre Monteux (b...| 2015-08-30|\n",
            "|         US|   41000426| REIWYIGFMEKEV|B00XWVIZW4|     190147421|Shostakovich - Un...|           Music|          5|           26|         30|   N|                Y|it is the gold st...|Buy it.  It is a ...| 2015-08-30|\n",
            "|         US|   28626749|R16QHOYRY9QLQU|B00WYMBZCO|     861398623|Rachmaninov Varia...|           Music|          5|           36|         39|   N|                N|Beautiful Marriag...|This is Trifonov’...| 2015-08-29|\n",
            "|         US|   43790276|R1CQON45M11K9Q|B010GV5PVQ|     363487418|Freedom: Jimi Hen...|           Music|          5|          125|        131|   N|                Y|      Atlanta Pop 70|If you already ha...| 2015-08-29|\n",
            "|         US|    4529757|R1WYWVRXAGND36|B00YPB27Z6|     654214320|           Bad Magic|           Music|          5|           24|         25|   N|                N|WE ARE MOTORHEAD ...|There are really ...| 2015-08-29|\n",
            "|         US|   13962821| RBRZ21U9GFORT|B010GV5PVQ|     363487418|Freedom: Jimi Hen...|           Music|          5|           28|         33|   N|                N|       Astonishing !|I don't need to s...| 2015-08-28|\n",
            "|         US|    6110080|R26I5D95TEK226|B010GV5PVQ|     363487418|Freedom: Jimi Hen...|           Music|          5|           52|         56|   N|                N|VINYL/WHAT AN EXP...|This review is fo...| 2015-08-28|\n",
            "|         US|   21085254| R69CRGNZR7FPO|B011D0KARI|      44838453|Beauty Behind The...|           Music|          5|           18|         23|   N|                N|               DAY 1|I've been listeni...| 2015-08-28|\n",
            "|         US|   51928366|R34XKFKZWIRDXH|B00YPB27Z6|     654214320|           Bad Magic|           Music|          5|           19|         21|   N|                N|Metal's Energizer...|As usual, I expec...| 2015-08-28|\n",
            "|         US|   49801805|R3FX8ZQQH7R498|B010GV5PVQ|     363487418|Freedom: Jimi Hen...|           Music|          5|           35|         42|   N|                N|GREAT HENDRIX CON...|Great concert, pr...| 2015-08-28|\n",
            "|         US|   38590153|R3HRZ3NVHSRR41|B00ZIAO80K|     990027034|Depression Cherry...|           Music|          5|           25|         31|   N|                N| Beautiful Melanchoy|Did you ever hear...| 2015-08-28|\n",
            "|         US|   25475768|R2GI28KZJDFKIN|B00YPB4M04|     654214320|Bad Magic (180 Gr...|           Music|          5|           34|         36|   N|                Y|40 Years Strong a...|With Motorhead, n...| 2015-08-28|\n",
            "|         US|   29679888|R1H8C1JJZ231WF|B010FP0WTS|     695167884|What Should Not B...|           Music|          5|           20|         21|   N|                N|A Call to Death M...|Nile is back with...| 2015-08-28|\n",
            "|         US|   51874910|R2CFY2TNDWCEIW|B00GJ7RP6K|     796188799|Gentle On My Mind...|           Music|          5|           24|         24|   N|                Y|Nice collection o...|After watching th...| 2015-08-27|\n",
            "|         US|   50257353|R2KV40Y9A7A2IL|B005NJ9CHK|     837188646|In Mono [14 LP Bo...|           Music|          5|           19|         20|   N|                Y|My opinion, on my...|My playback syste...| 2015-08-26|\n",
            "+-----------+-----------+--------------+----------+--------------+--------------------+----------------+-----------+-------------+-----------+----+-----------------+--------------------+--------------------+-----------+\n",
            "only showing top 20 rows\n",
            "\n"
          ]
        }
      ]
    },
    {
      "cell_type": "code",
      "source": [
        "paid_star_rating_df = paid_vine_df.filter(col(\"star_rating\") == 5)\n",
        "paid_star_rating_df.count()"
      ],
      "metadata": {
        "colab": {
          "base_uri": "https://localhost:8080/"
        },
        "id": "WhAMQXKyQ7ij",
        "outputId": "ea3887b6-eda7-4c97-abdd-572683c548bf"
      },
      "execution_count": 33,
      "outputs": [
        {
          "output_type": "execute_result",
          "data": {
            "text/plain": [
              "0"
            ]
          },
          "metadata": {},
          "execution_count": 33
        }
      ]
    },
    {
      "cell_type": "code",
      "source": [
        "unpaid_star_rating_df.count()"
      ],
      "metadata": {
        "colab": {
          "base_uri": "https://localhost:8080/"
        },
        "id": "31Pam5uBRHmm",
        "outputId": "2113f950-0689-4c57-8338-6b2e5263e6ee"
      },
      "execution_count": 39,
      "outputs": [
        {
          "output_type": "execute_result",
          "data": {
            "text/plain": [
              "67580"
            ]
          },
          "metadata": {},
          "execution_count": 39
        }
      ]
    },
    {
      "cell_type": "code",
      "source": [
        "calculation_unpaid = (unpaid_star_rating_df.count()/unpaid_vine_df.count())*100\n",
        "calculation_unpaid"
      ],
      "metadata": {
        "colab": {
          "base_uri": "https://localhost:8080/"
        },
        "id": "-_YjVywtTRy9",
        "outputId": "05927e43-c7a4-4d8d-9936-ec7fac67ec36"
      },
      "execution_count": 37,
      "outputs": [
        {
          "output_type": "execute_result",
          "data": {
            "text/plain": [
              "63.767350135404186"
            ]
          },
          "metadata": {},
          "execution_count": 37
        }
      ]
    },
    {
      "cell_type": "code",
      "source": [
        "paid_vine_df.count()\n",
        "unpaid_vine_df.count()"
      ],
      "metadata": {
        "id": "qS7Lkd-JTg4Y"
      },
      "execution_count": null,
      "outputs": []
    },
    {
      "cell_type": "code",
      "source": [],
      "metadata": {
        "id": "tFFxoMfgXYW0"
      },
      "execution_count": null,
      "outputs": []
    }
  ]
}